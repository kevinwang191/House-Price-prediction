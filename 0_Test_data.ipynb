{
  "cells": [
    {
      "cell_type": "markdown",
      "metadata": {
        "id": "view-in-github",
        "colab_type": "text"
      },
      "source": [
        "<a href=\"https://colab.research.google.com/github/kevinwang191/House-Price-prediction/blob/main/0_Test_data.ipynb\" target=\"_parent\"><img src=\"https://colab.research.google.com/assets/colab-badge.svg\" alt=\"Open In Colab\"/></a>"
      ]
    },
    {
      "cell_type": "markdown",
      "metadata": {
        "id": "n8mxlkouaPOe"
      },
      "source": [
        "Mount and Import"
      ]
    },
    {
      "cell_type": "code",
      "execution_count": null,
      "metadata": {
        "colab": {
          "base_uri": "https://localhost:8080/"
        },
        "id": "a2qrNO3g_fA2",
        "outputId": "1d7bbe84-8a1e-4ef4-8ecd-7e2f52e6da36"
      },
      "outputs": [
        {
          "name": "stdout",
          "output_type": "stream",
          "text": [
            "Drive already mounted at /content/drive; to attempt to forcibly remount, call drive.mount(\"/content/drive\", force_remount=True).\n"
          ]
        }
      ],
      "source": [
        "from google.colab import drive\n",
        "drive.mount('/content/drive')"
      ]
    },
    {
      "cell_type": "code",
      "execution_count": null,
      "metadata": {
        "id": "QT4cV0dCc8XA"
      },
      "outputs": [],
      "source": [
        "import os\n",
        "import pandas as pd\n",
        "import numpy as np\n",
        "import glob"
      ]
    },
    {
      "cell_type": "markdown",
      "metadata": {
        "id": "ZmWnVzFRaYay"
      },
      "source": [
        "Load Data"
      ]
    },
    {
      "cell_type": "code",
      "execution_count": null,
      "metadata": {
        "id": "zelrLxjW_iRH"
      },
      "outputs": [],
      "source": [
        "!cp '/content/drive/MyDrive/property_project/test_data/house.zip' /content"
      ]
    },
    {
      "cell_type": "code",
      "execution_count": null,
      "metadata": {
        "colab": {
          "background_save": true,
          "base_uri": "https://localhost:8080/"
        },
        "id": "C22vPEzZ_pBf",
        "outputId": "814ebe54-d934-4a25-aba9-2d3fec9c3f0a"
      },
      "outputs": [
        {
          "name": "stdout",
          "output_type": "stream",
          "text": [
            "Archive:  /content/house.zip\n",
            "replace /content/a_lvr_land_a.csv? [y]es, [n]o, [A]ll, [N]one, [r]ename: "
          ]
        }
      ],
      "source": [
        "!unzip /content/house.zip -d /content/"
      ]
    },
    {
      "cell_type": "markdown",
      "metadata": {
        "id": "LMdUDoNSaitW"
      },
      "source": [
        "Combine Data & Add city"
      ]
    },
    {
      "cell_type": "code",
      "execution_count": null,
      "metadata": {
        "id": "7HnxEMi2TN8Q"
      },
      "outputs": [],
      "source": [
        "# Combine Files\n",
        "\n",
        "# List to store DataFrames from CSV files\n",
        "dataframes = []\n",
        "file_labels = []  # List to store the corresponding file labels\n",
        "\n",
        "# Loop through file names from 'a' to 'z'\n",
        "for letter in range(ord('a'), ord('z') + 1):\n",
        "    letter = chr(letter)\n",
        "    file_pattern = f\"{letter}_lvr_land_a.csv\"\n",
        "\n",
        "    # Use glob to find matching files\n",
        "    matching_files = glob.glob(file_pattern)\n",
        "\n",
        "    # Check if any matching files were found\n",
        "    if matching_files:\n",
        "        # Loop through matching files and read them into DataFrames\n",
        "        for file in matching_files:\n",
        "            df = pd.read_csv(file)\n",
        "\n",
        "            # Add a new column 'SourceFile' with the file label\n",
        "            df['SourceFile'] = file\n",
        "\n",
        "            dataframes.append(df)\n",
        "            file_labels.extend([file] * len(df))  # Store file labels for rows\n",
        "\n",
        "# Check if any files were found\n",
        "if dataframes:\n",
        "    # Concatenate all DataFrames into one\n",
        "    combined_data = pd.concat(dataframes, ignore_index=True)\n",
        "\n",
        "    # Add a 'SourceFile' column to the combined DataFrame\n",
        "    combined_data['SourceFile'] = file_labels\n",
        "\n",
        "    # Save the combined data to a new CSV file\n",
        "    combined_data.to_csv('full_prop.csv', index=False)\n",
        "\n",
        "    print(\"CSV files combined with row labels and saved as full_prop_with_labels.csv\")\n",
        "else:\n",
        "    print(\"No matching CSV files found.\")\n",
        "\n"
      ]
    },
    {
      "cell_type": "code",
      "execution_count": null,
      "metadata": {
        "id": "QZ0fEWgJqR7i"
      },
      "outputs": [],
      "source": [
        "df = pd.read_csv(\"full_prop.csv\")"
      ]
    },
    {
      "cell_type": "code",
      "execution_count": null,
      "metadata": {
        "id": "7Cg5bZ_urfao"
      },
      "outputs": [],
      "source": [
        "column_to_move = 'SourceFile'\n",
        "# Reorder the DataFrame with the selected column in the front\n",
        "df = df[[column_to_move] + [col for col in df.columns if col != column_to_move]]\n",
        "df.rename(columns={'SourceFile': '縣市'}, inplace=True)"
      ]
    },
    {
      "cell_type": "code",
      "execution_count": null,
      "metadata": {
        "id": "ryvAGBOwxPio"
      },
      "outputs": [],
      "source": [
        "column_contents = df['縣市'].unique()\n",
        "print(column_contents)"
      ]
    },
    {
      "cell_type": "code",
      "execution_count": null,
      "metadata": {
        "id": "yLiiS4H5wc9Z"
      },
      "outputs": [],
      "source": [
        "#寫入縣市\n",
        "# Define a mapping of values to replacements\n",
        "value_replacements = {\n",
        "    'a_lvr_land_a.csv': '台北市',\n",
        "    'b_lvr_land_a.csv': '台中市',\n",
        "    'c_lvr_land_a.csv': '基隆市',\n",
        "    'd_lvr_land_a.csv': '台南市',\n",
        "    'e_lvr_land_a.csv': '高雄市',\n",
        "    'f_lvr_land_a.csv': '新北市',\n",
        "    'g_lvr_land_a.csv': '宜蘭縣',\n",
        "    'h_lvr_land_a.csv': '桃園市',\n",
        "    'i_lvr_land_a.csv': '嘉義市',\n",
        "    'j_lvr_land_a.csv': '新竹縣',\n",
        "    'k_lvr_land_a.csv': '苗栗縣',\n",
        "    'm_lvr_land_a.csv': '南投縣',\n",
        "    'n_lvr_land_a.csv': '彰化縣',\n",
        "    'o_lvr_land_a.csv': '新竹市',\n",
        "    'p_lvr_land_a.csv': '雲林縣',\n",
        "    'q_lvr_land_a.csv': '嘉義縣',\n",
        "    't_lvr_land_a.csv': '屏東縣',\n",
        "    'u_lvr_land_a.csv': '花蓮縣',\n",
        "    'v_lvr_land_a.csv': '台東縣',\n",
        "    'w_lvr_land_a.csv': '金門縣',\n",
        "    'x_lvr_land_a.csv': '澎湖縣',\n",
        "\n",
        "    # Add more mappings as needed\n",
        "}\n",
        "\n",
        "# Replace values in the specific column using the mapping\n",
        "df['縣市'] = df['縣市'].replace(value_replacements)\n"
      ]
    },
    {
      "cell_type": "code",
      "execution_count": null,
      "metadata": {
        "id": "j1_4H9jV1T7-"
      },
      "outputs": [],
      "source": [
        "df"
      ]
    },
    {
      "cell_type": "code",
      "execution_count": null,
      "metadata": {
        "id": "gQekRI_g2LqV"
      },
      "outputs": [],
      "source": [
        "df.to_csv('full_prop.csv', index=False)"
      ]
    },
    {
      "cell_type": "code",
      "execution_count": null,
      "metadata": {
        "id": "_8_oHySuW2wR"
      },
      "outputs": [],
      "source": [
        "!pip install XlsxWriter\n",
        "# Specify the encoding used in your CSV file (e.g., 'utf-8' or 'ISO-8859-1')\n",
        "csv_encoding = 'utf-8'\n",
        "\n",
        "# Read the CSV file with the specified encoding\n",
        "df = pd.read_csv('full_prop.csv', encoding=csv_encoding)\n",
        "\n",
        "# Save the DataFrame to an Excel file\n",
        "excel_writer = pd.ExcelWriter('output.xlsx', engine='xlsxwriter')\n",
        "df.to_excel(excel_writer, index=False, sheet_name='Sheet1')\n",
        "excel_writer.save()\n",
        "\n",
        "print(\"CSV file successfully converted to Excel.\")\n"
      ]
    },
    {
      "cell_type": "code",
      "execution_count": null,
      "metadata": {
        "id": "SogqY3PoZC-z"
      },
      "outputs": [],
      "source": [
        "# Define the file path in Colab\n",
        "colab_file_path = '/content/output.xlsx'\n",
        "\n",
        "# Define the destination path in Google Drive\n",
        "drive_file_path = '/content/drive/My Drive/test_data/full_prop.txt'  # Replace Your_Folder with your desired folder\n",
        "\n",
        "# Copy the file from Colab to Google Drive\n",
        "import shutil\n",
        "shutil.copyfile(colab_file_path, drive_file_path)\n"
      ]
    }
  ],
  "metadata": {
    "colab": {
      "provenance": [],
      "include_colab_link": true
    },
    "kernelspec": {
      "display_name": "Python 3",
      "name": "python3"
    },
    "language_info": {
      "name": "python"
    }
  },
  "nbformat": 4,
  "nbformat_minor": 0
}